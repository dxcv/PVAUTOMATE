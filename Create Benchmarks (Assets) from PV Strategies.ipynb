{
 "cells": [
  {
   "cell_type": "code",
   "execution_count": 1,
   "metadata": {},
   "outputs": [],
   "source": [
    "import os\n",
    "from selenium import webdriver\n",
    "import pandas as pd\n",
    "import datetime, time, csv\n",
    "# import gspread\n",
    "from bs4 import BeautifulSoup"
   ]
  },
  {
   "cell_type": "code",
   "execution_count": 2,
   "metadata": {},
   "outputs": [],
   "source": [
    "def get_header_columns(header):\n",
    "    \n",
    "    '''\n",
    "    PortfolioVisualizer Import Benchmark. \n",
    "    To generate a list of columns from the webpage HTML file from \n",
    "    a table, in order to create a Pandas DataFrame.\n",
    "\n",
    "    '''\n",
    "    \n",
    "    soup = BeautifulSoup(header, 'html.parser')\n",
    "\n",
    "    columns = []\n",
    "    initials = []\n",
    "    index = 0\n",
    "    for row in soup.findAll('th'):\n",
    "    #     print(row)\n",
    "    #     print(row.attrs)\n",
    "        if 'scope' in row.attrs:\n",
    "            if 'colspan' in row.attrs:\n",
    "    #             print('colspan', row['class'], get_initials(row.text.split(' ')))\n",
    "                initials.append(get_initials(row.text.split(' ')))\n",
    "            else:\n",
    "                columns.append(row.text)\n",
    "        if 'class' in row.attrs and 'group-start' in row['class']:\n",
    "    #         print (initials[index], row.text)\n",
    "            columns.append(initials[index]+'_'+row.text)\n",
    "\n",
    "        if 'class' in row.attrs and 'group-end' in row['class']:\n",
    "    #         print (initials[index], row.text)\n",
    "            columns.append(initials[index]+'_'+row.text)\n",
    "            index += 1\n",
    "        \n",
    "    return columns"
   ]
  },
  {
   "cell_type": "code",
   "execution_count": 3,
   "metadata": {},
   "outputs": [],
   "source": [
    "def get_initials(string_list=[]):\n",
    "    return \"\".join(item[0].upper() for item in string_list)"
   ]
  },
  {
   "cell_type": "code",
   "execution_count": null,
   "metadata": {},
   "outputs": [
    {
     "name": "stdout",
     "output_type": "stream",
     "text": [
      "Username:········\n",
      "scubamut@mail.com\n"
     ]
    }
   ],
   "source": [
    "##### get PV name and password\n",
    "\n",
    "import getpass\n",
    "\n",
    "PVNAME = getpass.getpass(\"Username:\")\n",
    "print (PVNAME)\n",
    "PVPASSWD = getpass.getpass(\"Password for \" + PVNAME + \":\")"
   ]
  },
  {
   "cell_type": "markdown",
   "metadata": {},
   "source": [
    "# Create Benchmarks"
   ]
  },
  {
   "cell_type": "code",
   "execution_count": 4,
   "metadata": {},
   "outputs": [],
   "source": [
    "os.environ.update({'PVNAME':'scubamut@gmail.com'})"
   ]
  },
  {
   "cell_type": "code",
   "execution_count": 5,
   "metadata": {},
   "outputs": [
    {
     "data": {
      "text/plain": [
       "'scubamut@gmail.com'"
      ]
     },
     "execution_count": 5,
     "metadata": {},
     "output_type": "execute_result"
    }
   ],
   "source": [
    "os.environ.get('PVNAME')"
   ]
  },
  {
   "cell_type": "code",
   "execution_count": 6,
   "metadata": {},
   "outputs": [],
   "source": [
    "os.environ.update({'PVPASSWD':'9D@3G!#qH5ZK*k^X*L%x'})"
   ]
  },
  {
   "cell_type": "code",
   "execution_count": 50,
   "metadata": {},
   "outputs": [],
   "source": [
    "# login to PV\n",
    "\n",
    "# browser = webdriver.Chrome(executable_path=\"/usr/lib/chromium-browser/chromedriver\",\n",
    "#                            service_args=[\"--verbose\", \"--log-path=~\\Downloads\\qc1.log\"])\n",
    "browser = webdriver.Chrome(executable_path=\"/usr/local/share/chromedriver\",\n",
    "                           service_args=[\"--verbose\", \"--log-path=~\\Downloads\\qc1.log\"])\n",
    "# browser.set_window_position(-1138,1)\n",
    "# browser = webdriver.Chrome(executable_path=\"D:\\\\chromedriver.exe\", service_args=[\"--verbose\", \"--log-path=~\\Downloads\\qc1.log\"])\n",
    "browser.set_window_position(1,1)\n",
    "# browser.set_window_size(1038, 875)\n",
    "browser.fullscreen_window()\n",
    "browser.get('https://www.portfoliovisualizer.com/login')\n",
    "time.sleep(2)\n",
    "user = browser.find_element_by_id('username')\n",
    "user.send_keys(os.environ.get('PVNAME'))\n",
    "password = browser.find_element_by_id('password')\n",
    "password.send_keys(os.environ.get('PVPASSWD'))\n",
    "time.sleep(2)\n",
    "login = browser.find_element_by_id('submitButton')\n",
    "login.click()"
   ]
  },
  {
   "cell_type": "code",
   "execution_count": 67,
   "metadata": {},
   "outputs": [],
   "source": [
    "# add PV assets and year-end, as necessary\n",
    "\n",
    "assets = {'OOM2000': 'http://bit.ly/2AMTnLO',\n",
    "          'OOM1987' : 'http://bit.ly/2DmKEgW',\n",
    "          'ETFMDBS0': 'http://bit.ly/2iN43TU',\n",
    "          'MDBS00' : 'https://goo.gl/Zzwnhk'} \n",
    "\n",
    "# remember that endYear is 2018 so change if necessary\n",
    "\n",
    "endYear = '2018'"
   ]
  },
  {
   "cell_type": "code",
   "execution_count": 68,
   "metadata": {},
   "outputs": [
    {
     "name": "stdout",
     "output_type": "stream",
     "text": [
      "OOM2000 http://bit.ly/2AMTnLO\n",
      "Benchmark series 'OOM2000.csv' imported.\n",
      "OOM1987 http://bit.ly/2DmKEgW\n",
      "Benchmark series 'OOM1987.csv' imported.\n",
      "ETFMDBS0 http://bit.ly/2iN43TU\n",
      "Benchmark series 'ETFMDBS0.csv' imported.\n",
      "MDBS00 https://goo.gl/Zzwnhk\n",
      "Benchmark series 'MDBS00.csv' imported.\n"
     ]
    }
   ],
   "source": [
    "for no,asset in enumerate(assets.keys()):\n",
    "    print(asset, assets[asset])   \n",
    "    browser.get(assets[asset])\n",
    "    browser.find_element_by_id('endYear').clear()\n",
    "    browser.find_element_by_id('endYear').send_keys(endYear)\n",
    "    browser.find_element_by_id('submitButton').click()\n",
    "    browser.find_element_by_xpath('//*[@id=\"tabs\"]/li[4]/a').click()  \n",
    "    \n",
    "    monthly_returns = browser.find_element_by_css_selector('#monthlyReturns').text\n",
    "    results = monthly_returns.splitlines()\n",
    "\n",
    "    data = [results[3:][i].split(sep=' ') for i in range(len(results[3:]))]\n",
    "       \n",
    "    # find table header\n",
    "    elem = browser.find_element_by_xpath('//*[@id=\"monthlyReturns\"]/div/table/thead')\n",
    "    header = elem.get_property('outerHTML')\n",
    "    \n",
    "    returns = pd.DataFrame(data, columns=get_header_columns(header), index=None)\n",
    "    returns.Month = [returns.Month.astype(str)[i].zfill(2) for i in range(len(returns))]   \n",
    "    returns.to_csv('~/Downloads/' + asset + '.csv', index=None)\n",
    "    \n",
    "    returns.loc[:,'Period'] = returns.Year.astype(str)+\"/\"+returns.Month\n",
    "    \n",
    "    df = pd.DataFrame( {'Period': returns['Period'], 'Return': returns['R_Timing Portfolio']}, index=None)\n",
    "    df.to_csv('~/Downloads/' + asset + '.csv', index=None)\n",
    "    \n",
    "    data_path = '/home/scubamut/Downloads/'\n",
    "    symbol = asset\n",
    "    \n",
    "    browser.get('https://www.portfoliovisualizer.com/manage-benchmarks#import')\n",
    "    \n",
    "    # Series Name\n",
    "    browser.find_element_by_id(\"benchmarkName\").clear()\n",
    "    browser.find_element_by_id(\"benchmarkName\").send_keys(asset+'.csv')\n",
    "\n",
    "    # Upload Data File\n",
    "    browser.find_element_by_id(\"upload\").clear()\n",
    "    browser.find_element_by_id(\"upload\").send_keys(data_path + symbol +'.csv')\n",
    "    \n",
    "    # Series (Type)\n",
    "    browser.find_element_by_id('seriesType_chosen').click()\n",
    "\n",
    "    # choose SeriesType : li[1|2|3|4] eg li[1] gives Monthly Returns\n",
    "    browser.find_element_by_xpath('//*[@id=\"seriesType_chosen\"]/div/ul/li[1]').click()    \n",
    "\n",
    "    # Percentage Values (2=Yes)\n",
    "    browser.find_element_by_id('percentageValues_chosen').click()\n",
    "    browser.find_element_by_xpath('//*[@id=\"percentageValues_chosen\"]/div/ul/li[2]').click()\n",
    "\n",
    "    # Assigned Ticker\n",
    "    browser.find_element_by_id(\"benchmarkSymbol\").clear()\n",
    "    browser.find_element_by_id(\"benchmarkSymbol\").send_keys(symbol)\n",
    "    browser.find_element_by_id('benchmarkAssetClass_chosen').click()\n",
    "    \n",
    "    # NOTE: there must be 10 years of monthly data to assign as an Asset Class (2=Yes)\n",
    "    # But don't need this for creating a benckmark\n",
    "\n",
    "    # Asset Class (1=Yes)\n",
    "    browser.find_element_by_css_selector('#benchmarkAssetClass_chosen > div > ul > li:nth-child(1)').click()\n",
    "\n",
    "    # Import Data Series\n",
    "    browser.implicitly_wait(90)\n",
    "    browser.find_element_by_id(\"importBenchmarkButton\").click()\n",
    "    \n",
    "    print(browser.find_element_by_class_name(\"alert\").text)\n",
    "\n",
    "    browser.execute_script(\"window.history.go(-1)\")\n",
    "    time.sleep(2)\n",
    "    \n",
    "browser.close()"
   ]
  },
  {
   "cell_type": "markdown",
   "metadata": {},
   "source": [
    "# SCRAP"
   ]
  },
  {
   "cell_type": "code",
   "execution_count": 52,
   "metadata": {},
   "outputs": [
    {
     "data": {
      "text/plain": [
       "{'OOM2000': 'http://bit.ly/2AMTnLO',\n",
       " 'OOM1987': 'http://bit.ly/2DmKEgW',\n",
       " 'ETFMDBS0': 'http://bit.ly/2iN43TU',\n",
       " 'MDBS00': 'https://goo.gl/Zzwnhk'}"
      ]
     },
     "execution_count": 52,
     "metadata": {},
     "output_type": "execute_result"
    }
   ],
   "source": [
    "assets"
   ]
  },
  {
   "cell_type": "code",
   "execution_count": 53,
   "metadata": {},
   "outputs": [
    {
     "name": "stdout",
     "output_type": "stream",
     "text": [
      "0 OOM2000 http://bit.ly/2AMTnLO\n",
      "1 OOM1987 http://bit.ly/2DmKEgW\n",
      "2 ETFMDBS0 http://bit.ly/2iN43TU\n",
      "3 MDBS00 https://goo.gl/Zzwnhk\n"
     ]
    }
   ],
   "source": [
    "for no,asset in enumerate(assets.keys()):\n",
    "    print(no,asset, assets[asset])"
   ]
  },
  {
   "cell_type": "code",
   "execution_count": 54,
   "metadata": {},
   "outputs": [],
   "source": [
    "no = 0\n",
    "asset = 'ETFMDBS0'"
   ]
  },
  {
   "cell_type": "code",
   "execution_count": 55,
   "metadata": {},
   "outputs": [],
   "source": [
    "browser.get(assets[asset])\n",
    "browser.find_element_by_id('endYear').clear()\n",
    "browser.find_element_by_id('endYear').send_keys(endYear)\n",
    "browser.find_element_by_id('submitButton').click()\n",
    "browser.find_element_by_xpath('//*[@id=\"tabs\"]/li[4]/a').click() "
   ]
  },
  {
   "cell_type": "code",
   "execution_count": 56,
   "metadata": {},
   "outputs": [],
   "source": [
    "monthly_returns = browser.find_element_by_css_selector('#monthlyReturns').text\n",
    "results = monthly_returns.splitlines()\n",
    "\n",
    "data = [results[3:][i].split(sep=' ') for i in range(len(results[3:]))]\n",
    "\n",
    "# find table header\n",
    "elem = browser.find_element_by_xpath('//*[@id=\"monthlyReturns\"]/div/table/thead')\n",
    "header = elem.get_property('outerHTML')"
   ]
  },
  {
   "cell_type": "code",
   "execution_count": 57,
   "metadata": {},
   "outputs": [],
   "source": [
    "returns = pd.DataFrame(data, columns=get_header_columns(header), index=None)\n",
    "returns.Month = [returns.Month.astype(str)[i].zfill(2) for i in range(len(returns))]   \n",
    "returns.to_csv('~/Downloads/' + asset + '.csv', index=None)\n",
    "\n",
    "returns.loc[:,'Period'] = returns.Year.astype(str)+\"/\"+returns.Month\n",
    "\n",
    "df = pd.DataFrame( {'Period': returns['Period'], 'Return': returns['R_Timing Portfolio']}, index=None)\n",
    "df.to_csv('~/Downloads/' + asset + '.csv', index=None)"
   ]
  },
  {
   "cell_type": "code",
   "execution_count": 58,
   "metadata": {},
   "outputs": [],
   "source": [
    "data_path = '/home/scubamut/Downloads/'\n",
    "symbol = asset"
   ]
  },
  {
   "cell_type": "code",
   "execution_count": 59,
   "metadata": {},
   "outputs": [],
   "source": [
    "browser.get('https://www.portfoliovisualizer.com/manage-benchmarks#import')"
   ]
  },
  {
   "cell_type": "code",
   "execution_count": 60,
   "metadata": {},
   "outputs": [],
   "source": [
    "# Series Name\n",
    "browser.find_element_by_id(\"benchmarkName\").clear()\n",
    "browser.find_element_by_id(\"benchmarkName\").send_keys(asset+'.csv')"
   ]
  },
  {
   "cell_type": "code",
   "execution_count": 61,
   "metadata": {},
   "outputs": [],
   "source": [
    "# Upload Data File\n",
    "browser.find_element_by_id(\"upload\").clear()\n",
    "browser.find_element_by_id(\"upload\").send_keys(data_path + symbol +'.csv')\n"
   ]
  },
  {
   "cell_type": "code",
   "execution_count": 62,
   "metadata": {},
   "outputs": [],
   "source": [
    "# Series (Type)\n",
    "browser.find_element_by_id('seriesType_chosen').click()\n",
    "\n",
    "# choose SeriesType : li[1|2|3|4] eg li[1] gives Monthly Returns\n",
    "browser.find_element_by_xpath('//*[@id=\"seriesType_chosen\"]/div/ul/li[1]').click()"
   ]
  },
  {
   "cell_type": "code",
   "execution_count": 63,
   "metadata": {},
   "outputs": [],
   "source": [
    "# 1=No, 2=Yes\n",
    "browser.find_element_by_id('percentageValues_chosen').click()\n",
    "browser.find_element_by_xpath('//*[@id=\"percentageValues_chosen\"]/div/ul/li[2]').click()"
   ]
  },
  {
   "cell_type": "code",
   "execution_count": 64,
   "metadata": {},
   "outputs": [],
   "source": [
    "browser.find_element_by_id(\"benchmarkSymbol\").clear()\n",
    "browser.find_element_by_id(\"benchmarkSymbol\").send_keys(symbol)\n",
    "browser.find_element_by_id('benchmarkAssetClass_chosen').click()"
   ]
  },
  {
   "cell_type": "code",
   "execution_count": 65,
   "metadata": {},
   "outputs": [],
   "source": [
    "browser.find_element_by_css_selector('#benchmarkAssetClass_chosen > div > ul > li:nth-child(2)').click()"
   ]
  },
  {
   "cell_type": "code",
   "execution_count": 66,
   "metadata": {},
   "outputs": [],
   "source": [
    "browser.implicitly_wait(90)\n",
    "browser.find_element_by_id(\"importBenchmarkButton\").click()"
   ]
  },
  {
   "cell_type": "code",
   "execution_count": null,
   "metadata": {},
   "outputs": [],
   "source": []
  }
 ],
 "metadata": {
  "kernelspec": {
   "display_name": "Python 3",
   "language": "python",
   "name": "python3"
  },
  "language_info": {
   "codemirror_mode": {
    "name": "ipython",
    "version": 3
   },
   "file_extension": ".py",
   "mimetype": "text/x-python",
   "name": "python",
   "nbconvert_exporter": "python",
   "pygments_lexer": "ipython3",
   "version": "3.6.7"
  },
  "toc": {
   "base_numbering": 1.0,
   "nav_menu": {},
   "number_sections": true,
   "sideBar": true,
   "skip_h1_title": false,
   "title_cell": "Table of Contents",
   "title_sidebar": "Contents",
   "toc_cell": false,
   "toc_position": {},
   "toc_section_display": true,
   "toc_window_display": false
  }
 },
 "nbformat": 4,
 "nbformat_minor": 2
}
